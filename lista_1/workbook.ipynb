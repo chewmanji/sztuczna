{
 "cells": [
  {
   "cell_type": "markdown",
   "metadata": {},
   "source": [
    "Inicjalizacja struktur"
   ]
  },
  {
   "cell_type": "code",
   "execution_count": 1,
   "metadata": {},
   "outputs": [
    {
     "ename": "ImportError",
     "evalue": "cannot import name 'calculate_transfers' from 'utils' (/home/chewmanji/sztuczna_laby/lista_1/utils.py)",
     "output_type": "error",
     "traceback": [
      "\u001b[31m---------------------------------------------------------------------------\u001b[39m",
      "\u001b[31mImportError\u001b[39m                               Traceback (most recent call last)",
      "\u001b[36mCell\u001b[39m\u001b[36m \u001b[39m\u001b[32mIn[1]\u001b[39m\u001b[32m, line 3\u001b[39m\n\u001b[32m      1\u001b[39m \u001b[38;5;28;01mfrom\u001b[39;00m\u001b[38;5;250m \u001b[39m\u001b[34;01mmain\u001b[39;00m\u001b[38;5;250m \u001b[39m\u001b[38;5;28;01mimport\u001b[39;00m create_structures\n\u001b[32m      2\u001b[39m \u001b[38;5;28;01mfrom\u001b[39;00m\u001b[38;5;250m \u001b[39m\u001b[34;01mutils\u001b[39;00m\u001b[38;5;250m \u001b[39m\u001b[38;5;28;01mimport\u001b[39;00m print_result\n\u001b[32m----> \u001b[39m\u001b[32m3\u001b[39m \u001b[38;5;28;01mfrom\u001b[39;00m\u001b[38;5;250m \u001b[39m\u001b[34;01mdijkstra\u001b[39;00m\u001b[38;5;250m \u001b[39m\u001b[38;5;28;01mimport\u001b[39;00m dijkstra\n\u001b[32m      4\u001b[39m \u001b[38;5;28;01mfrom\u001b[39;00m\u001b[38;5;250m \u001b[39m\u001b[34;01ma_star\u001b[39;00m\u001b[38;5;250m \u001b[39m\u001b[38;5;28;01mimport\u001b[39;00m a_star_min_time, a_star_min_transfers\n\u001b[32m      5\u001b[39m stops, connections = create_structures()\n",
      "\u001b[36mFile \u001b[39m\u001b[32m~/sztuczna_laby/lista_1/dijkstra.py:6\u001b[39m\n\u001b[32m      4\u001b[39m \u001b[38;5;28;01mfrom\u001b[39;00m\u001b[38;5;250m \u001b[39m\u001b[34;01mstop\u001b[39;00m\u001b[38;5;250m \u001b[39m\u001b[38;5;28;01mimport\u001b[39;00m Stop\n\u001b[32m      5\u001b[39m \u001b[38;5;28;01mfrom\u001b[39;00m\u001b[38;5;250m \u001b[39m\u001b[34;01mconnection\u001b[39;00m\u001b[38;5;250m \u001b[39m\u001b[38;5;28;01mimport\u001b[39;00m Connection\n\u001b[32m----> \u001b[39m\u001b[32m6\u001b[39m \u001b[38;5;28;01mfrom\u001b[39;00m\u001b[38;5;250m \u001b[39m\u001b[34;01mutils\u001b[39;00m\u001b[38;5;250m \u001b[39m\u001b[38;5;28;01mimport\u001b[39;00m SearchResult, calculate_transfers\n\u001b[32m      9\u001b[39m \u001b[38;5;28;01mdef\u001b[39;00m\u001b[38;5;250m \u001b[39m\u001b[34mdijkstra\u001b[39m(\n\u001b[32m     10\u001b[39m     start_stop: Stop, end_stop: Stop, arrival_time: datetime\n\u001b[32m     11\u001b[39m ) -> Optional[SearchResult]:\n\u001b[32m     12\u001b[39m     \u001b[38;5;66;03m# Priority queue to store stops to visit\u001b[39;00m\n\u001b[32m     13\u001b[39m     \u001b[38;5;66;03m# Each item is (total_duration, arrival_time, stop, path_so_far, list_connections)\u001b[39;00m\n\u001b[32m     14\u001b[39m     pq: \u001b[38;5;28mlist\u001b[39m[\u001b[38;5;28mtuple\u001b[39m[timedelta, datetime, Stop, \u001b[38;5;28mlist\u001b[39m[Stop], \u001b[38;5;28mlist\u001b[39m[Connection]]] = [\n\u001b[32m     15\u001b[39m         (timedelta(), arrival_time, start_stop, [start_stop], [])\n\u001b[32m     16\u001b[39m     ]\n",
      "\u001b[31mImportError\u001b[39m: cannot import name 'calculate_transfers' from 'utils' (/home/chewmanji/sztuczna_laby/lista_1/utils.py)"
     ]
    }
   ],
   "source": [
    "from main import create_structures\n",
    "from utils import print_result\n",
    "from dijkstra import dijkstra\n",
    "from a_star import a_star_min_time, a_star_min_transfers\n",
    "stops, connections = create_structures()\n",
    "\n"
   ]
  },
  {
   "cell_type": "code",
   "execution_count": null,
   "metadata": {},
   "outputs": [],
   "source": [
    "unique_coors = set()\n",
    "for stop in list(stops.values()):\n",
    "    unique_coors.add((stop.lat, stop.lon))\n",
    "len(unique_coors)"
   ]
  },
  {
   "cell_type": "markdown",
   "metadata": {},
   "source": [
    "Wprowadzenie danych użytkownika"
   ]
  },
  {
   "cell_type": "code",
   "execution_count": null,
   "metadata": {},
   "outputs": [],
   "source": [
    "from datetime import datetime,timedelta\n",
    "\n",
    "criterion = \"t\"\n",
    "start_stop = \"Maślicka (Osiedle)\"\n",
    "end_stop = \"Iwiny - Kolejowa\"\n",
    "start_time = datetime.strptime(\"16:07\", \"%H:%M\")\n",
    "if start_time.hour < 4:\n",
    "    start_time += timedelta(1)"
   ]
  },
  {
   "cell_type": "markdown",
   "metadata": {},
   "source": [
    "Test cases"
   ]
  },
  {
   "cell_type": "code",
   "execution_count": null,
   "metadata": {},
   "outputs": [],
   "source": [
    "criterion = \"t\"\n",
    "start_stop = \"Syrokomli\"\n",
    "end_stop = \"Komuny Paryskiej\"\n",
    "start_time = datetime.strptime(\"23:55\", \"%H:%M\")"
   ]
  },
  {
   "cell_type": "code",
   "execution_count": null,
   "metadata": {},
   "outputs": [],
   "source": [
    "criterion = \"t\"\n",
    "start_stop = \"Komuny Paryskiej\"\n",
    "end_stop = \"PL. GRUNWALDZKI\"\n",
    "start_time = datetime.strptime(\"14:55\", \"%H:%M\")"
   ]
  },
  {
   "cell_type": "code",
   "execution_count": null,
   "metadata": {},
   "outputs": [],
   "source": [
    "criterion = \"t\"\n",
    "start_stop = \"Maślicka (Osiedle)\"\n",
    "end_stop = \"Iwiny - Kolejowa\"\n",
    "start_time = datetime.strptime(\"16:07\", \"%H:%M\")"
   ]
  },
  {
   "cell_type": "code",
   "execution_count": null,
   "metadata": {},
   "outputs": [],
   "source": [
    "criterion = \"t\"\n",
    "start_stop = \"Małkowice - Główna\"\n",
    "end_stop = \"Kiełczów - Zgodna\"\n",
    "start_time = datetime.strptime(\"10:39\", \"%H:%M\")"
   ]
  },
  {
   "cell_type": "code",
   "execution_count": null,
   "metadata": {},
   "outputs": [],
   "source": [
    "criterion = \"t\"\n",
    "start_stop = \"Iwiny - rondo\"\n",
    "end_stop = \"Hala Stulecia\"\n",
    "start_time = datetime.strptime(\"14:38\", \"%H:%M\")"
   ]
  },
  {
   "cell_type": "code",
   "execution_count": null,
   "metadata": {},
   "outputs": [],
   "source": [
    "\n",
    "\n",
    "path = dijkstra(stops[start_stop], stops[end_stop], start_time)\n",
    "print_result(path, start_time)"
   ]
  },
  {
   "cell_type": "code",
   "execution_count": null,
   "metadata": {},
   "outputs": [],
   "source": [
    "path = a_star_min_time(stops[start_stop], stops[end_stop], start_time, list(stops.values()))\n",
    "print_result(path, start_time)"
   ]
  },
  {
   "cell_type": "code",
   "execution_count": null,
   "metadata": {},
   "outputs": [],
   "source": [
    "path = a_star_min_transfers(stops[start_stop], stops[end_stop], start_time, list(stops.values()))\n",
    "print_result(path, start_time)"
   ]
  }
 ],
 "metadata": {
  "kernelspec": {
   "display_name": "venv",
   "language": "python",
   "name": "python3"
  },
  "language_info": {
   "codemirror_mode": {
    "name": "ipython",
    "version": 3
   },
   "file_extension": ".py",
   "mimetype": "text/x-python",
   "name": "python",
   "nbconvert_exporter": "python",
   "pygments_lexer": "ipython3",
   "version": "3.12.2"
  }
 },
 "nbformat": 4,
 "nbformat_minor": 2
}
