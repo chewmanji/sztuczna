{
 "cells": [
  {
   "cell_type": "code",
   "execution_count": 1,
   "metadata": {},
   "outputs": [],
   "source": [
    "from main import create_structures\n",
    "from utils import print_result, measure_time\n",
    "from dijkstra import dijkstra\n",
    "from a_star import a_star_min_time, a_star_min_transfers\n",
    "from timeit import timeit"
   ]
  },
  {
   "cell_type": "markdown",
   "metadata": {},
   "source": [
    "Inicjalizacja struktur"
   ]
  },
  {
   "cell_type": "code",
   "execution_count": 2,
   "metadata": {},
   "outputs": [
    {
     "name": "stdout",
     "output_type": "stream",
     "text": [
      "Number of stops generated: 939\n",
      "Number of connections generated: 996520\n"
     ]
    }
   ],
   "source": [
    "\n",
    "stops, connections = create_structures()\n",
    "\n"
   ]
  },
  {
   "cell_type": "markdown",
   "metadata": {},
   "source": [
    "Wprowadzenie danych użytkownika"
   ]
  },
  {
   "cell_type": "code",
   "execution_count": 3,
   "metadata": {},
   "outputs": [],
   "source": [
    "from datetime import datetime,timedelta\n",
    "\n",
    "criterion = \"t\"\n",
    "start_stop = \"Maślicka (Osiedle)\"\n",
    "end_stop = \"Iwiny - Kolejowa\"\n",
    "start_time = datetime.strptime(\"16:07\", \"%H:%M\")\n",
    "if start_time.hour < 4:\n",
    "    start_time += timedelta(1)"
   ]
  },
  {
   "cell_type": "markdown",
   "metadata": {},
   "source": [
    "Test cases"
   ]
  },
  {
   "cell_type": "code",
   "execution_count": 4,
   "metadata": {},
   "outputs": [],
   "source": [
    "criterion = \"t\"\n",
    "start_stop = \"Syrokomli\"\n",
    "end_stop = \"Komuny Paryskiej\"\n",
    "start_time = datetime.strptime(\"23:55\", \"%H:%M\")"
   ]
  },
  {
   "cell_type": "code",
   "execution_count": 12,
   "metadata": {},
   "outputs": [],
   "source": [
    "criterion = \"t\"\n",
    "start_stop = \"Komuny Paryskiej\"\n",
    "end_stop = \"PL. GRUNWALDZKI\"\n",
    "start_time = datetime.strptime(\"14:55\", \"%H:%M\")"
   ]
  },
  {
   "cell_type": "code",
   "execution_count": 6,
   "metadata": {},
   "outputs": [],
   "source": [
    "criterion = \"t\"\n",
    "start_stop = \"Maślicka (Osiedle)\"\n",
    "end_stop = \"Iwiny - Kolejowa\"\n",
    "start_time = datetime.strptime(\"16:07\", \"%H:%M\")"
   ]
  },
  {
   "cell_type": "code",
   "execution_count": 7,
   "metadata": {},
   "outputs": [],
   "source": [
    "criterion = \"t\"\n",
    "start_stop = \"Małkowice - Główna\"\n",
    "end_stop = \"Kiełczów - Zgodna\"\n",
    "start_time = datetime.strptime(\"10:39\", \"%H:%M\")"
   ]
  },
  {
   "cell_type": "code",
   "execution_count": 8,
   "metadata": {},
   "outputs": [],
   "source": [
    "criterion = \"t\"\n",
    "start_stop = \"Iwiny - rondo\"\n",
    "end_stop = \"Hala Stulecia\"\n",
    "start_time = datetime.strptime(\"14:38\", \"%H:%M\")"
   ]
  },
  {
   "cell_type": "code",
   "execution_count": 13,
   "metadata": {},
   "outputs": [
    {
     "name": "stdout",
     "output_type": "stream",
     "text": [
      "\u001b[91mExecution time: 0.05990743637084961 seconds\u001b[0m\n",
      "Komuny Paryskiej -> PL. GRUNWALDZKI\n",
      "Czas pojawienia się na przystanku: 1900-01-01 14:55:00\n",
      "Czas dotarcia do celu: \u001b[96m1900-01-01 15:05:00\u001b[0m\n",
      "\u001b[92mCzas podróży: 0:10:00\u001b[0m\n",
      "\n",
      "Linie:\n",
      "Wsiadamy w 16 [1900-01-01 14:55:00] na [Komuny Paryskiej]\n",
      "Wysiadamy z 16 [1900-01-01 15:05:00] na [PL. GRUNWALDZKI]\n"
     ]
    }
   ],
   "source": [
    "path = dijkstra(stops[start_stop], stops[end_stop], start_time)\n",
    "\n",
    "print_result(path, start_time)"
   ]
  },
  {
   "cell_type": "code",
   "execution_count": 14,
   "metadata": {},
   "outputs": [
    {
     "name": "stdout",
     "output_type": "stream",
     "text": [
      "Średnia prędkość pojazdu: 50 km/h\n",
      "\u001b[91mExecution time: 0.07255268096923828 seconds\u001b[0m\n",
      "Komuny Paryskiej -> PL. GRUNWALDZKI\n",
      "Czas pojawienia się na przystanku: 1900-01-01 14:55:00\n",
      "Czas dotarcia do celu: \u001b[96m1900-01-01 15:07:00\u001b[0m\n",
      "\u001b[92mCzas podróży: 0:12:00\u001b[0m\n",
      "\u001b[93mLiczba przesiadek: 1\u001b[0m\n",
      "\n",
      "Linie:\n",
      "Wsiadamy w 4 [1900-01-01 14:59:00] na [Komuny Paryskiej]\n",
      "Wysiadamy z 4 [1900-01-01 15:03:00] na [Urząd Wojewódzki (Impart)]\n",
      "Wsiadamy w D [1900-01-01 15:04:00] na [Urząd Wojewódzki (Impart)]\n",
      "Wysiadamy z D [1900-01-01 15:07:00] na [PL. GRUNWALDZKI]\n"
     ]
    }
   ],
   "source": [
    "\n",
    "\n",
    "path = a_star_min_time(stops[start_stop], stops[end_stop], start_time, list(stops.values()))\n",
    "print_result(path, start_time)"
   ]
  },
  {
   "cell_type": "code",
   "execution_count": 22,
   "metadata": {},
   "outputs": [
    {
     "name": "stdout",
     "output_type": "stream",
     "text": [
      "Średnia prędkość pojazdu: 50 km/h\n",
      "\u001b[91mExecution time: 0.08421754837036133 seconds\u001b[0m\n",
      "Komuny Paryskiej -> PL. GRUNWALDZKI\n",
      "Czas pojawienia się na przystanku: 1900-01-01 14:55:00\n",
      "Czas dotarcia do celu: \u001b[96m1900-01-01 15:05:00\u001b[0m\n",
      "\u001b[92mCzas podróży: 0:10:00\u001b[0m\n",
      "\n",
      "Linie:\n",
      "Wsiadamy w 16 [1900-01-01 14:55:00] na [Komuny Paryskiej]\n",
      "Wysiadamy z 16 [1900-01-01 15:05:00] na [PL. GRUNWALDZKI]\n"
     ]
    }
   ],
   "source": [
    "path = a_star_min_transfers(stops[start_stop], stops[end_stop], start_time, list(stops.values()))\n",
    "print_result(path, start_time)"
   ]
  }
 ],
 "metadata": {
  "kernelspec": {
   "display_name": "venv",
   "language": "python",
   "name": "python3"
  },
  "language_info": {
   "codemirror_mode": {
    "name": "ipython",
    "version": 3
   },
   "file_extension": ".py",
   "mimetype": "text/x-python",
   "name": "python",
   "nbconvert_exporter": "python",
   "pygments_lexer": "ipython3",
   "version": "3.12.2"
  }
 },
 "nbformat": 4,
 "nbformat_minor": 2
}
