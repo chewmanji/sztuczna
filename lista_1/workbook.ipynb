{
 "cells": [
  {
   "cell_type": "markdown",
   "metadata": {},
   "source": [
    "Inicjalizacja struktur"
   ]
  },
  {
   "cell_type": "code",
   "execution_count": 1,
   "metadata": {},
   "outputs": [
    {
     "name": "stdout",
     "output_type": "stream",
     "text": [
      "Number of stops generated: 939\n",
      "Number of connections generated: 996520\n"
     ]
    }
   ],
   "source": [
    "from main import create_structures\n",
    "stops, connections = create_structures()"
   ]
  },
  {
   "cell_type": "code",
   "execution_count": 2,
   "metadata": {},
   "outputs": [],
   "source": [
    "from datetime import datetime,timedelta\n",
    "\n",
    "criterion = \"t\"\n",
    "start_stop = \"Syrokomli\"\n",
    "end_stop = \"Komuny Paryskiej\"\n",
    "start_time = datetime.strptime(\"23:50\", \"%H:%M\")\n",
    "if start_time.hour < 4:\n",
    "    start_time += timedelta(1)"
   ]
  },
  {
   "cell_type": "code",
   "execution_count": 3,
   "metadata": {},
   "outputs": [],
   "source": [
    "from dijkstra import dijkstra, print_dijkstra_result"
   ]
  },
  {
   "cell_type": "code",
   "execution_count": 4,
   "metadata": {},
   "outputs": [
    {
     "name": "stdout",
     "output_type": "stream",
     "text": [
      "Ścieżka:\n",
      "- Syrokomli\n",
      "- Pola\n",
      "- Broniewskiego\n",
      "- Trzebnicka\n",
      "- DWORZEC NADODRZE\n",
      "- Paulińska\n",
      "- Dubois\n",
      "- Uniwersytet Wrocławski\n",
      "- Rynek\n",
      "- Narodowe Forum Muzyki\n",
      "- Renoma\n",
      "- DWORZEC GŁÓWNY\n",
      "- Kościuszki\n",
      "- Komuny Paryskiej\n",
      "\n",
      "Czas podróży: 0:43:00\n",
      "Czas dotarcia do celu: 1900-01-02 00:33:00\n",
      "\n",
      "Przystanki:\n",
      "Line 130: Syrokomli -> Pola (Departure: 1900-01-01 23:50:00, Arrival: 1900-01-01 23:51:00)\n",
      "Line 130: Pola -> Broniewskiego (Departure: 1900-01-01 23:51:00, Arrival: 1900-01-01 23:52:00)\n",
      "Line 247: Broniewskiego -> Trzebnicka (Departure: 1900-01-02 00:09:00, Arrival: 1900-01-02 00:11:00)\n",
      "Line 247: Trzebnicka -> DWORZEC NADODRZE (Departure: 1900-01-02 00:11:00, Arrival: 1900-01-02 00:12:00)\n",
      "Line 247: DWORZEC NADODRZE -> Paulińska (Departure: 1900-01-02 00:12:00, Arrival: 1900-01-02 00:13:00)\n",
      "Line 247: Paulińska -> Dubois (Departure: 1900-01-02 00:13:00, Arrival: 1900-01-02 00:14:00)\n",
      "Line 247: Dubois -> Uniwersytet Wrocławski (Departure: 1900-01-02 00:14:00, Arrival: 1900-01-02 00:15:00)\n",
      "Line 247: Uniwersytet Wrocławski -> Rynek (Departure: 1900-01-02 00:15:00, Arrival: 1900-01-02 00:16:00)\n",
      "Line 247: Rynek -> Narodowe Forum Muzyki (Departure: 1900-01-02 00:18:00, Arrival: 1900-01-02 00:19:00)\n",
      "Line 247: Narodowe Forum Muzyki -> Renoma (Departure: 1900-01-02 00:19:00, Arrival: 1900-01-02 00:21:00)\n",
      "Line 247: Renoma -> DWORZEC GŁÓWNY (Departure: 1900-01-02 00:21:00, Arrival: 1900-01-02 00:23:00)\n",
      "Line 250: DWORZEC GŁÓWNY -> Kościuszki (Departure: 1900-01-02 00:29:00, Arrival: 1900-01-02 00:32:00)\n",
      "Line 250: Kościuszki -> Komuny Paryskiej (Departure: 1900-01-02 00:32:00, Arrival: 1900-01-02 00:33:00)\n"
     ]
    }
   ],
   "source": [
    "\n",
    "\n",
    "path = dijkstra(stops[start_stop], stops[end_stop], start_time)\n",
    "print_dijkstra_result(path, start_time)"
   ]
  }
 ],
 "metadata": {
  "kernelspec": {
   "display_name": "venv",
   "language": "python",
   "name": "python3"
  },
  "language_info": {
   "codemirror_mode": {
    "name": "ipython",
    "version": 3
   },
   "file_extension": ".py",
   "mimetype": "text/x-python",
   "name": "python",
   "nbconvert_exporter": "python",
   "pygments_lexer": "ipython3",
   "version": "3.12.2"
  }
 },
 "nbformat": 4,
 "nbformat_minor": 2
}
