{
 "cells": [
  {
   "cell_type": "markdown",
   "metadata": {},
   "source": [
    "### Dijkstra i A*"
   ]
  },
  {
   "cell_type": "code",
   "execution_count": null,
   "metadata": {},
   "outputs": [],
   "source": [
    "from main import create_structures\n",
    "from utils import print_result\n",
    "from dijkstra import dijkstra\n",
    "from a_star import a_star_min_time, a_star_min_transfers\n",
    "from datetime import datetime,timedelta"
   ]
  },
  {
   "cell_type": "markdown",
   "metadata": {},
   "source": [
    "Inicjalizacja struktur"
   ]
  },
  {
   "cell_type": "code",
   "execution_count": null,
   "metadata": {},
   "outputs": [],
   "source": [
    "\n",
    "stops, connections = create_structures()\n",
    "stops_list = (list(stops.values()))\n",
    "\n"
   ]
  },
  {
   "cell_type": "markdown",
   "metadata": {},
   "source": [
    "Wprowadzenie danych użytkownika"
   ]
  },
  {
   "cell_type": "code",
   "execution_count": null,
   "metadata": {},
   "outputs": [],
   "source": [
    "criterion = \"t\"\n",
    "start_stop = \"Renoma\"\n",
    "end_stop = \"PORT LOTNICZY\"\n",
    "start_time = datetime.strptime(\"10:07\", \"%H:%M\")\n",
    "if start_time.hour < 4:\n",
    "    start_time += timedelta(1)"
   ]
  },
  {
   "cell_type": "markdown",
   "metadata": {},
   "source": [
    "Test cases"
   ]
  },
  {
   "cell_type": "code",
   "execution_count": null,
   "metadata": {},
   "outputs": [],
   "source": [
    "criterion = \"t\"\n",
    "start_stop = \"Syrokomli\"\n",
    "end_stop = \"Komuny Paryskiej\"\n",
    "start_time = datetime.strptime(\"23:55\", \"%H:%M\")"
   ]
  },
  {
   "cell_type": "code",
   "execution_count": null,
   "metadata": {},
   "outputs": [],
   "source": [
    "criterion = \"t\"\n",
    "start_stop = \"Komuny Paryskiej\"\n",
    "end_stop = \"PL. GRUNWALDZKI\"\n",
    "start_time = datetime.strptime(\"14:55\", \"%H:%M\")\n",
    "if start_time.hour < 4:\n",
    "    start_time += timedelta(1)"
   ]
  },
  {
   "cell_type": "code",
   "execution_count": null,
   "metadata": {},
   "outputs": [],
   "source": [
    "criterion = \"t\"\n",
    "start_stop = \"Maślicka (Osiedle)\"\n",
    "end_stop = \"Iwiny - Kolejowa\"\n",
    "start_time = datetime.strptime(\"16:07\", \"%H:%M\")"
   ]
  },
  {
   "cell_type": "code",
   "execution_count": null,
   "metadata": {},
   "outputs": [],
   "source": [
    "criterion = \"t\"\n",
    "start_stop = \"Iwiny - rondo\"\n",
    "end_stop = \"Hala Stulecia\"\n",
    "start_time = datetime.strptime(\"14:38\", \"%H:%M\")"
   ]
  },
  {
   "cell_type": "code",
   "execution_count": null,
   "metadata": {},
   "outputs": [],
   "source": [
    "criterion = \"t\"\n",
    "start_stop = \"Renoma\"\n",
    "end_stop = \"PORT LOTNICZY\"\n",
    "start_time = datetime.strptime(\"10:00\", \"%H:%M\")"
   ]
  },
  {
   "cell_type": "code",
   "execution_count": null,
   "metadata": {},
   "outputs": [],
   "source": [
    "path = dijkstra(stops[start_stop], stops[end_stop], start_time)\n",
    "\n",
    "print_result(path, start_time)"
   ]
  },
  {
   "cell_type": "code",
   "execution_count": null,
   "metadata": {},
   "outputs": [],
   "source": [
    "\n",
    "\n",
    "path = a_star_min_time(stops[start_stop], stops[end_stop], start_time, stops_list)\n",
    "print_result(path, start_time)"
   ]
  },
  {
   "cell_type": "code",
   "execution_count": null,
   "metadata": {},
   "outputs": [],
   "source": [
    "path = a_star_min_transfers(stops[start_stop], stops[end_stop], start_time, stops_list)\n",
    "print_result(path, start_time)"
   ]
  }
 ],
 "metadata": {
  "kernelspec": {
   "display_name": "venv",
   "language": "python",
   "name": "python3"
  },
  "language_info": {
   "codemirror_mode": {
    "name": "ipython",
    "version": 3
   },
   "file_extension": ".py",
   "mimetype": "text/x-python",
   "name": "python",
   "nbconvert_exporter": "python",
   "pygments_lexer": "ipython3",
   "version": "3.12.2"
  }
 },
 "nbformat": 4,
 "nbformat_minor": 2
}
