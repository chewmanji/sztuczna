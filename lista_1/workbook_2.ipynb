{
 "cells": [
  {
   "cell_type": "markdown",
   "metadata": {},
   "source": [
    "### Tabu search"
   ]
  },
  {
   "cell_type": "code",
   "execution_count": 1,
   "metadata": {},
   "outputs": [],
   "source": [
    "from main import create_structures\n",
    "from tabu import solve_route_planning_problem\n",
    "from datetime import datetime\n",
    "from utils import print_result"
   ]
  },
  {
   "cell_type": "code",
   "execution_count": 2,
   "metadata": {},
   "outputs": [
    {
     "name": "stdout",
     "output_type": "stream",
     "text": [
      "Number of stops generated: 939\n",
      "Number of connections generated: 996520\n"
     ]
    }
   ],
   "source": [
    "stops, connections = create_structures()\n",
    "stops_list = (list(stops.values()))"
   ]
  },
  {
   "cell_type": "code",
   "execution_count": 3,
   "metadata": {},
   "outputs": [],
   "source": [
    "start_stop = stops[\"Komuny Paryskiej\"]\n",
    "stops_to_visit = [\n",
    "    \"DWORZEC GŁÓWNY\",\n",
    "    \"ZOO\",\n",
    "    \"PL. GRUNWALDZKI\",\n",
    "    \"Syrokomli\"\n",
    "]\n",
    "start_time = datetime.strptime(\"12:07\", \"%H:%M\")"
   ]
  },
  {
   "cell_type": "code",
   "execution_count": 4,
   "metadata": {},
   "outputs": [
    {
     "name": "stdout",
     "output_type": "stream",
     "text": [
      "\u001b[91mExecution time: 0.11140203475952148 seconds\u001b[0m\n",
      "\u001b[91mExecution time: 0.99703049659729 seconds\u001b[0m\n",
      "\u001b[91mExecution time: 0.6393804550170898 seconds\u001b[0m\n",
      "\u001b[91mExecution time: 0.7350947856903076 seconds\u001b[0m\n",
      "breaking mainloop\n",
      "\u001b[91mExecution time: 8.988956212997437 seconds\u001b[0m\n",
      "Komuny Paryskiej -> pl. Wróblewskiego\n",
      "Czas pojawienia się na przystanku: 1900-01-01 12:07:00\n",
      "Czas dotarcia do celu: \u001b[96m1900-01-01 12:07:00\u001b[0m\n",
      "\u001b[92mKoszt podróży: 1:11:00\u001b[0m\n",
      "\n",
      "Linie:\n",
      "Wsiadamy w 4 [1900-01-01 12:07:00] na [Komuny Paryskiej]\n",
      "Wysiadamy z 4 [1900-01-01 12:12:00] na [DWORZEC GŁÓWNY]\n",
      "Wsiadamy w 9 [1900-01-01 12:12:00] na [DWORZEC GŁÓWNY]\n",
      "Wysiadamy z 9 [1900-01-01 12:17:00] na [GALERIA DOMINIKAŃSKA]\n",
      "Wsiadamy w 13 [1900-01-01 12:19:00] na [GALERIA DOMINIKAŃSKA]\n",
      "Wysiadamy z 13 [1900-01-01 12:22:00] na [Urząd Wojewódzki (Impart)]\n",
      "Wsiadamy w 149 [1900-01-01 12:22:00] na [Urząd Wojewódzki (Impart)]\n",
      "Wysiadamy z 149 [1900-01-01 12:26:00] na [PL. GRUNWALDZKI]\n",
      "Wsiadamy w 2 [1900-01-01 12:27:00] na [PL. GRUNWALDZKI]\n",
      "Wysiadamy z 2 [1900-01-01 12:32:00] na [ZOO]\n",
      "Wsiadamy w 4 [1900-01-01 12:33:00] na [ZOO]\n",
      "Wysiadamy z 4 [1900-01-01 12:34:00] na [Hala Stulecia]\n",
      "Wsiadamy w 1 [1900-01-01 12:34:00] na [Hala Stulecia]\n",
      "Wysiadamy z 1 [1900-01-01 12:43:00] na [Wyszyńskiego]\n",
      "Wsiadamy w 924 [1900-01-01 12:43:00] na [Wyszyńskiego]\n",
      "Wysiadamy z 924 [1900-01-01 12:47:00] na [KROMERA]\n",
      "Wsiadamy w 118 [1900-01-01 12:47:00] na [KROMERA]\n",
      "Wysiadamy z 118 [1900-01-01 12:51:00] na [pl. Daniłowskiego]\n",
      "Wsiadamy w 116  [1900-01-01 12:51:00] na [pl. Daniłowskiego]\n",
      "Wysiadamy z 116  [1900-01-01 12:52:00] na [Kasprowicza]\n",
      "Wsiadamy w 118 [1900-01-01 12:52:00] na [Kasprowicza]\n",
      "Wysiadamy z 118 [1900-01-01 12:56:00] na [Broniewskiego]\n",
      "Wsiadamy w 144 [1900-01-01 12:56:00] na [Broniewskiego]\n",
      "Wysiadamy z 144 [1900-01-01 13:00:00] na [DWORZEC NADODRZE]\n",
      "Wsiadamy w 16 [1900-01-01 13:00:00] na [DWORZEC NADODRZE]\n",
      "Wysiadamy z 16 [1900-01-01 13:12:00] na [PL. GRUNWALDZKI]\n",
      "Wsiadamy w 12 [1900-01-01 13:12:00] na [PL. GRUNWALDZKI]\n",
      "Wysiadamy z 12 [1900-01-01 13:15:00] na [Urząd Wojewódzki (Impart)]\n",
      "Wsiadamy w 16 [1900-01-01 13:15:00] na [Urząd Wojewódzki (Impart)]\n",
      "Wysiadamy z 16 [1900-01-01 13:18:00] na [Komuny Paryskiej]\n",
      "\n",
      "Przystanki:\n",
      "Linia 4: Komuny Paryskiej -> Kościuszki (Odjazd: 1900-01-01 12:07:00, Przyjazd: 1900-01-01 12:08:00)\n",
      "Linia 4: Kościuszki -> Pułaskiego (Odjazd: 1900-01-01 12:08:00, Przyjazd: 1900-01-01 12:10:00)\n",
      "Linia 4: Pułaskiego -> DWORZEC GŁÓWNY (Odjazd: 1900-01-01 12:10:00, Przyjazd: 1900-01-01 12:12:00)\n",
      "Linia 9: DWORZEC GŁÓWNY -> Wzgórze Partyzantów (Odjazd: 1900-01-01 12:12:00, Przyjazd: 1900-01-01 12:14:00)\n",
      "Linia 9: Wzgórze Partyzantów -> GALERIA DOMINIKAŃSKA (Odjazd: 1900-01-01 12:14:00, Przyjazd: 1900-01-01 12:17:00)\n",
      "Linia 13: GALERIA DOMINIKAŃSKA -> Urząd Wojewódzki (Impart) (Odjazd: 1900-01-01 12:19:00, Przyjazd: 1900-01-01 12:22:00)\n",
      "Linia 149: Urząd Wojewódzki (Impart) -> most Grunwaldzki (Odjazd: 1900-01-01 12:22:00, Przyjazd: 1900-01-01 12:23:00)\n",
      "Linia 149: most Grunwaldzki -> PL. GRUNWALDZKI (Odjazd: 1900-01-01 12:23:00, Przyjazd: 1900-01-01 12:26:00)\n",
      "Linia 2: PL. GRUNWALDZKI -> Kliniki - Politechnika Wrocławska (Odjazd: 1900-01-01 12:27:00, Przyjazd: 1900-01-01 12:29:00)\n",
      "Linia 2: Kliniki - Politechnika Wrocławska -> Hala Stulecia (Odjazd: 1900-01-01 12:29:00, Przyjazd: 1900-01-01 12:31:00)\n",
      "Linia 2: Hala Stulecia -> ZOO (Odjazd: 1900-01-01 12:31:00, Przyjazd: 1900-01-01 12:32:00)\n",
      "Linia 4: ZOO -> Hala Stulecia (Odjazd: 1900-01-01 12:33:00, Przyjazd: 1900-01-01 12:34:00)\n",
      "Linia 1: Hala Stulecia -> Kliniki - Politechnika Wrocławska (Odjazd: 1900-01-01 12:34:00, Przyjazd: 1900-01-01 12:36:00)\n",
      "Linia 1: Kliniki - Politechnika Wrocławska -> PL. GRUNWALDZKI (Odjazd: 1900-01-01 12:36:00, Przyjazd: 1900-01-01 12:38:00)\n",
      "Linia 1: PL. GRUNWALDZKI -> Piastowska (Odjazd: 1900-01-01 12:38:00, Przyjazd: 1900-01-01 12:40:00)\n",
      "Linia 1: Piastowska -> Prusa (Odjazd: 1900-01-01 12:40:00, Przyjazd: 1900-01-01 12:42:00)\n",
      "Linia 1: Prusa -> Wyszyńskiego (Odjazd: 1900-01-01 12:42:00, Przyjazd: 1900-01-01 12:43:00)\n",
      "Linia 924: Wyszyńskiego -> Damrota (Odjazd: 1900-01-01 12:43:00, Przyjazd: 1900-01-01 12:44:00)\n",
      "Linia 924: Damrota -> KROMERA (Odjazd: 1900-01-01 12:44:00, Przyjazd: 1900-01-01 12:47:00)\n",
      "Linia 118: KROMERA -> Berenta (Odjazd: 1900-01-01 12:47:00, Przyjazd: 1900-01-01 12:49:00)\n",
      "Linia 118: Berenta -> pl. Daniłowskiego (Odjazd: 1900-01-01 12:49:00, Przyjazd: 1900-01-01 12:51:00)\n",
      "Linia 116 : pl. Daniłowskiego -> Kasprowicza (Odjazd: 1900-01-01 12:51:00, Przyjazd: 1900-01-01 12:52:00)\n",
      "Linia 118: Kasprowicza -> Syrokomli (Odjazd: 1900-01-01 12:52:00, Przyjazd: 1900-01-01 12:53:00)\n",
      "Linia 118: Syrokomli -> Pola (Odjazd: 1900-01-01 12:53:00, Przyjazd: 1900-01-01 12:54:00)\n",
      "Linia 118: Pola -> Broniewskiego (Odjazd: 1900-01-01 12:54:00, Przyjazd: 1900-01-01 12:56:00)\n",
      "Linia 144: Broniewskiego -> Trzebnicka (Odjazd: 1900-01-01 12:56:00, Przyjazd: 1900-01-01 12:58:00)\n",
      "Linia 144: Trzebnicka -> DWORZEC NADODRZE (Odjazd: 1900-01-01 12:58:00, Przyjazd: 1900-01-01 13:00:00)\n",
      "Linia 16: DWORZEC NADODRZE -> Słowiańska (Odjazd: 1900-01-01 13:00:00, Przyjazd: 1900-01-01 13:02:00)\n",
      "Linia 16: Słowiańska -> Nowowiejska (Odjazd: 1900-01-01 13:02:00, Przyjazd: 1900-01-01 13:04:00)\n",
      "Linia 16: Nowowiejska -> Wyszyńskiego (Odjazd: 1900-01-01 13:04:00, Przyjazd: 1900-01-01 13:06:00)\n",
      "Linia 16: Wyszyńskiego -> Prusa (Odjazd: 1900-01-01 13:06:00, Przyjazd: 1900-01-01 13:07:00)\n",
      "Linia 16: Prusa -> Piastowska (Odjazd: 1900-01-01 13:07:00, Przyjazd: 1900-01-01 13:09:00)\n",
      "Linia 16: Piastowska -> PL. GRUNWALDZKI (Odjazd: 1900-01-01 13:09:00, Przyjazd: 1900-01-01 13:12:00)\n",
      "Linia 12: PL. GRUNWALDZKI -> most Grunwaldzki (Odjazd: 1900-01-01 13:12:00, Przyjazd: 1900-01-01 13:13:00)\n",
      "Linia 12: most Grunwaldzki -> Urząd Wojewódzki (Impart) (Odjazd: 1900-01-01 13:13:00, Przyjazd: 1900-01-01 13:15:00)\n",
      "Linia 16: Urząd Wojewódzki (Impart) -> pl. Wróblewskiego (Odjazd: 1900-01-01 13:15:00, Przyjazd: 1900-01-01 13:17:00)\n",
      "Linia 16: pl. Wróblewskiego -> Komuny Paryskiej (Odjazd: 1900-01-01 13:17:00, Przyjazd: 1900-01-01 13:18:00)\n"
     ]
    }
   ],
   "source": [
    "\n",
    "result = solve_route_planning_problem(stops, connections, start_stop, stops_to_visit, start_time)\n",
    "print_result(result, start_time)"
   ]
  }
 ],
 "metadata": {
  "kernelspec": {
   "display_name": "venv",
   "language": "python",
   "name": "python3"
  },
  "language_info": {
   "codemirror_mode": {
    "name": "ipython",
    "version": 3
   },
   "file_extension": ".py",
   "mimetype": "text/x-python",
   "name": "python",
   "nbconvert_exporter": "python",
   "pygments_lexer": "ipython3",
   "version": "3.12.2"
  }
 },
 "nbformat": 4,
 "nbformat_minor": 2
}
