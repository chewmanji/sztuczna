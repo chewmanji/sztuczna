{
 "cells": [
  {
   "cell_type": "markdown",
   "metadata": {},
   "source": [
    "### Tabu search"
   ]
  },
  {
   "cell_type": "code",
   "execution_count": null,
   "metadata": {},
   "outputs": [],
   "source": [
    "from main import create_structures\n",
    "from tabu import solve_route_planning_problem\n",
    "from datetime import datetime\n",
    "from utils import print_result"
   ]
  },
  {
   "cell_type": "code",
   "execution_count": null,
   "metadata": {},
   "outputs": [],
   "source": [
    "stops, connections = create_structures()\n",
    "stops_list = (list(stops.values()))"
   ]
  },
  {
   "cell_type": "code",
   "execution_count": null,
   "metadata": {},
   "outputs": [],
   "source": [
    "start_stop = stops[\"DWORZEC GŁÓWNY\"]\n",
    "stops_to_visit = [\n",
    "    \"PORT LOTNICZY\",\n",
    "    \"PL. GRUNWALDZKI\",\n",
    "    \"KRZYKI\",\n",
    "    \"BISKUPIN\"\n",
    "]\n",
    "start_time = datetime.strptime(\"12:07\", \"%H:%M\")"
   ]
  },
  {
   "cell_type": "code",
   "execution_count": null,
   "metadata": {},
   "outputs": [],
   "source": [
    "\n",
    "result = solve_route_planning_problem(stops, connections, start_stop, stops_to_visit, start_time)\n",
    "print_result(result, start_time)"
   ]
  }
 ],
 "metadata": {
  "kernelspec": {
   "display_name": "venv",
   "language": "python",
   "name": "python3"
  },
  "language_info": {
   "codemirror_mode": {
    "name": "ipython",
    "version": 3
   },
   "file_extension": ".py",
   "mimetype": "text/x-python",
   "name": "python",
   "nbconvert_exporter": "python",
   "pygments_lexer": "ipython3",
   "version": "3.12.2"
  }
 },
 "nbformat": 4,
 "nbformat_minor": 2
}
