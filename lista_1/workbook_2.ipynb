{
 "cells": [
  {
   "cell_type": "markdown",
   "metadata": {},
   "source": [
    "### Tabu search"
   ]
  },
  {
   "cell_type": "code",
   "execution_count": 1,
   "metadata": {},
   "outputs": [],
   "source": [
    "from main import create_structures\n",
    "from tabu import solve_route_planning_problem\n",
    "from datetime import datetime\n",
    "from utils import print_result"
   ]
  },
  {
   "cell_type": "code",
   "execution_count": 2,
   "metadata": {},
   "outputs": [
    {
     "name": "stdout",
     "output_type": "stream",
     "text": [
      "Number of stops generated: 939\n",
      "Number of connections generated: 996520\n"
     ]
    }
   ],
   "source": [
    "stops, connections = create_structures()\n",
    "stops_list = (list(stops.values()))"
   ]
  },
  {
   "cell_type": "code",
   "execution_count": 5,
   "metadata": {},
   "outputs": [],
   "source": [
    "start_stop = stops[\"Komuny Paryskiej\"]\n",
    "stops_to_visit = [\n",
    "    \"DWORZEC GŁÓWNY\",\n",
    "    \"ZOO\",\n",
    "    \"PL. GRUNWALDZKI\",\n",
    "    \"Syrokomli\"\n",
    "]\n",
    "start_time = datetime.strptime(\"12:07\", \"%H:%M\")"
   ]
  },
  {
   "cell_type": "code",
   "execution_count": 6,
   "metadata": {},
   "outputs": [
    {
     "name": "stdout",
     "output_type": "stream",
     "text": [
      "\u001b[91mExecution time: 0.013273000717163086 seconds\u001b[0m\n",
      "\u001b[91mExecution time: 1.2268974781036377 seconds\u001b[0m\n",
      "\u001b[91mExecution time: 0.7310101985931396 seconds\u001b[0m\n",
      "\u001b[91mExecution time: 0.7231159210205078 seconds\u001b[0m\n",
      "breaking mainloop\n",
      "\u001b[91mExecution time: 8.780883312225342 seconds\u001b[0m\n",
      "Komuny Paryskiej -> pl. Wróblewskiego\n",
      "Czas pojawienia się na przystanku: 1900-01-01 12:07:00\n",
      "Czas dotarcia do celu: \u001b[96m1900-01-01 12:07:00\u001b[0m\n",
      "\u001b[92mCzas podróży: 1:24:00\u001b[0m\n",
      "\n",
      "Linie:\n",
      "Wsiadamy w 4 [1900-01-01 12:07:00] na [Komuny Paryskiej]\n",
      "Wysiadamy z 4 [1900-01-01 12:12:00] na [DWORZEC GŁÓWNY]\n",
      "Wsiadamy w 9 [1900-01-01 12:12:00] na [DWORZEC GŁÓWNY]\n",
      "Wysiadamy z 9 [1900-01-01 12:17:00] na [GALERIA DOMINIKAŃSKA]\n",
      "Wsiadamy w 13 [1900-01-01 12:19:00] na [GALERIA DOMINIKAŃSKA]\n",
      "Wysiadamy z 13 [1900-01-01 12:26:00] na [PL. GRUNWALDZKI]\n",
      "Wsiadamy w 145 [1900-01-01 12:27:00] na [PL. GRUNWALDZKI]\n",
      "Wysiadamy z 145 [1900-01-01 12:31:00] na [Hala Stulecia]\n",
      "Wsiadamy w 10 [1900-01-01 12:35:00] na [Hala Stulecia]\n",
      "Wysiadamy z 10 [1900-01-01 12:36:00] na [ZOO]\n",
      "Wsiadamy w 2 [1900-01-01 12:37:00] na [ZOO]\n",
      "Wysiadamy z 2 [1900-01-01 12:42:00] na [PL. GRUNWALDZKI]\n",
      "Wsiadamy w 16 [1900-01-01 12:45:00] na [PL. GRUNWALDZKI]\n",
      "Wysiadamy z 16 [1900-01-01 12:52:00] na [Nowowiejska]\n",
      "Wsiadamy w 111 [1900-01-01 12:53:00] na [Nowowiejska]\n",
      "Wysiadamy z 111 [1900-01-01 13:00:00] na [Broniewskiego]\n",
      "Wsiadamy w 151  [1900-01-01 13:01:00] na [Broniewskiego]\n",
      "Wysiadamy z 151  [1900-01-01 13:19:00] na [PL. GRUNWALDZKI]\n",
      "Wsiadamy w 16 [1900-01-01 13:24:00] na [PL. GRUNWALDZKI]\n",
      "Wysiadamy z 16 [1900-01-01 13:31:00] na [Komuny Paryskiej]\n",
      "\n",
      "Przystanki:\n",
      "Linia 4: Komuny Paryskiej -> Kościuszki (Odjazd: 1900-01-01 12:07:00, Przyjazd: 1900-01-01 12:08:00)\n",
      "Linia 4: Kościuszki -> Pułaskiego (Odjazd: 1900-01-01 12:08:00, Przyjazd: 1900-01-01 12:10:00)\n",
      "Linia 4: Pułaskiego -> DWORZEC GŁÓWNY (Odjazd: 1900-01-01 12:10:00, Przyjazd: 1900-01-01 12:12:00)\n",
      "Linia 9: DWORZEC GŁÓWNY -> Wzgórze Partyzantów (Odjazd: 1900-01-01 12:12:00, Przyjazd: 1900-01-01 12:14:00)\n",
      "Linia 9: Wzgórze Partyzantów -> GALERIA DOMINIKAŃSKA (Odjazd: 1900-01-01 12:14:00, Przyjazd: 1900-01-01 12:17:00)\n",
      "Linia 13: GALERIA DOMINIKAŃSKA -> Urząd Wojewódzki (Impart) (Odjazd: 1900-01-01 12:19:00, Przyjazd: 1900-01-01 12:22:00)\n",
      "Linia 13: Urząd Wojewódzki (Impart) -> most Grunwaldzki (Odjazd: 1900-01-01 12:22:00, Przyjazd: 1900-01-01 12:24:00)\n",
      "Linia 13: most Grunwaldzki -> PL. GRUNWALDZKI (Odjazd: 1900-01-01 12:24:00, Przyjazd: 1900-01-01 12:26:00)\n",
      "Linia 145: PL. GRUNWALDZKI -> Kliniki - Politechnika Wrocławska (Odjazd: 1900-01-01 12:27:00, Przyjazd: 1900-01-01 12:29:00)\n",
      "Linia 145: Kliniki - Politechnika Wrocławska -> Hala Stulecia (Odjazd: 1900-01-01 12:29:00, Przyjazd: 1900-01-01 12:31:00)\n",
      "Linia 10: Hala Stulecia -> ZOO (Odjazd: 1900-01-01 12:35:00, Przyjazd: 1900-01-01 12:36:00)\n",
      "Linia 2: ZOO -> Hala Stulecia (Odjazd: 1900-01-01 12:37:00, Przyjazd: 1900-01-01 12:38:00)\n",
      "Linia 2: Hala Stulecia -> Kliniki - Politechnika Wrocławska (Odjazd: 1900-01-01 12:38:00, Przyjazd: 1900-01-01 12:40:00)\n",
      "Linia 2: Kliniki - Politechnika Wrocławska -> PL. GRUNWALDZKI (Odjazd: 1900-01-01 12:40:00, Przyjazd: 1900-01-01 12:42:00)\n",
      "Linia 16: PL. GRUNWALDZKI -> Piastowska (Odjazd: 1900-01-01 12:45:00, Przyjazd: 1900-01-01 12:47:00)\n",
      "Linia 16: Piastowska -> Prusa (Odjazd: 1900-01-01 12:47:00, Przyjazd: 1900-01-01 12:49:00)\n",
      "Linia 16: Prusa -> Wyszyńskiego (Odjazd: 1900-01-01 12:49:00, Przyjazd: 1900-01-01 12:50:00)\n",
      "Linia 16: Wyszyńskiego -> Nowowiejska (Odjazd: 1900-01-01 12:50:00, Przyjazd: 1900-01-01 12:52:00)\n",
      "Linia 111: Nowowiejska -> Daszyńskiego (Odjazd: 1900-01-01 12:53:00, Przyjazd: 1900-01-01 12:55:00)\n",
      "Linia 111: Daszyńskiego -> Słonimskiego (Odjazd: 1900-01-01 12:55:00, Przyjazd: 1900-01-01 12:56:00)\n",
      "Linia 111: Słonimskiego -> Zakładowa (Odjazd: 1900-01-01 12:56:00, Przyjazd: 1900-01-01 12:57:00)\n",
      "Linia 111: Zakładowa -> Broniewskiego (Odjazd: 1900-01-01 12:57:00, Przyjazd: 1900-01-01 13:00:00)\n",
      "Linia 151 : Broniewskiego -> Pola (Odjazd: 1900-01-01 13:01:00, Przyjazd: 1900-01-01 13:02:00)\n",
      "Linia 151 : Pola -> Syrokomli (Odjazd: 1900-01-01 13:02:00, Przyjazd: 1900-01-01 13:03:00)\n",
      "Linia 151 : Syrokomli -> Berenta (Odjazd: 1900-01-01 13:03:00, Przyjazd: 1900-01-01 13:05:00)\n",
      "Linia 151 : Berenta -> KROMERA (Odjazd: 1900-01-01 13:05:00, Przyjazd: 1900-01-01 13:08:00)\n",
      "Linia 151 : KROMERA -> Kwidzyńska (Odjazd: 1900-01-01 13:08:00, Przyjazd: 1900-01-01 13:11:00)\n",
      "Linia 151 : Kwidzyńska -> Zacisze (Odjazd: 1900-01-01 13:11:00, Przyjazd: 1900-01-01 13:12:00)\n",
      "Linia 151 : Zacisze -> Śniadeckich (Odjazd: 1900-01-01 13:12:00, Przyjazd: 1900-01-01 13:13:00)\n",
      "Linia 151 : Śniadeckich -> Kochanowskiego (Odjazd: 1900-01-01 13:13:00, Przyjazd: 1900-01-01 13:15:00)\n",
      "Linia 151 : Kochanowskiego -> Bujwida (Odjazd: 1900-01-01 13:15:00, Przyjazd: 1900-01-01 13:17:00)\n",
      "Linia 151 : Bujwida -> PL. GRUNWALDZKI (Odjazd: 1900-01-01 13:17:00, Przyjazd: 1900-01-01 13:19:00)\n",
      "Linia 16: PL. GRUNWALDZKI -> most Grunwaldzki (Odjazd: 1900-01-01 13:24:00, Przyjazd: 1900-01-01 13:25:00)\n",
      "Linia 16: most Grunwaldzki -> Urząd Wojewódzki (Impart) (Odjazd: 1900-01-01 13:25:00, Przyjazd: 1900-01-01 13:27:00)\n",
      "Linia 16: Urząd Wojewódzki (Impart) -> pl. Wróblewskiego (Odjazd: 1900-01-01 13:27:00, Przyjazd: 1900-01-01 13:30:00)\n",
      "Linia 16: pl. Wróblewskiego -> Komuny Paryskiej (Odjazd: 1900-01-01 13:30:00, Przyjazd: 1900-01-01 13:31:00)\n"
     ]
    }
   ],
   "source": [
    "\n",
    "result = solve_route_planning_problem(stops, connections, start_stop, stops_to_visit, start_time)\n",
    "print_result(result, start_time)"
   ]
  }
 ],
 "metadata": {
  "kernelspec": {
   "display_name": "venv",
   "language": "python",
   "name": "python3"
  },
  "language_info": {
   "codemirror_mode": {
    "name": "ipython",
    "version": 3
   },
   "file_extension": ".py",
   "mimetype": "text/x-python",
   "name": "python",
   "nbconvert_exporter": "python",
   "pygments_lexer": "ipython3",
   "version": "3.12.2"
  }
 },
 "nbformat": 4,
 "nbformat_minor": 2
}
