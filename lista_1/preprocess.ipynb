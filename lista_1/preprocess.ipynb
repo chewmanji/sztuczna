{
 "cells": [
  {
   "cell_type": "code",
   "execution_count": null,
   "metadata": {},
   "outputs": [
    {
     "name": "stdout",
     "output_type": "stream",
     "text": [
      "996520\n"
     ]
    }
   ],
   "source": [
    "import pandas as pd\n",
    "\n",
    "\n",
    "data = pd.read_csv(\n",
    "    \"dane_lista_1.csv\",\n",
    "    dtype={\"line\": str},\n",
    ")\n",
    "\n",
    "start_stops = set(data[\"start_stop\"])\n",
    "end_stops = set(data[\"end_stop\"])\n",
    "start_stops.difference(end_stops)\n",
    "data.columns"
   ]
  },
  {
   "cell_type": "markdown",
   "metadata": {},
   "source": [
    "##### Uważka\n",
    "Są przejazdy gdzie przystanek początkowy === przystanek końcowy, ale przy dobrze zaimplementowanym algorytmie, nie powinno mieć to wpływu, więc nie ma potrzeby usuwania tych przejazdów."
   ]
  },
  {
   "cell_type": "code",
   "execution_count": null,
   "metadata": {},
   "outputs": [],
   "source": [
    "\n",
    "# Przy załadowaniu wszystkich danych poniższy kod wypluje ponad 13k wierszy\n",
    "data[data[\"start_stop\"] == data[\"end_stop\"]]"
   ]
  },
  {
   "cell_type": "markdown",
   "metadata": {},
   "source": [
    "### Uproszczenie danych związanych z lokalizacją\n",
    "Jeden przystanek może mieć wiele współrzędnych geograficznych.\n",
    "Dla uproszczenia zadania obliczamy tylko jedną wartość dla jednego przystanku (np. wyliczenie średniej ze wszystkich współrzędnych związanych z danym przytankiem)\n",
    "\n",
    "Struktura agregująca nazwę przystanku i współrzędne:\n",
    "Mapa:\n",
    "- klucz - nazwa przystanku (string)\n",
    "- wartość - zbiór (set) krotek o strukturze (szerokość geo, długość geo)\n",
    "    - pytanie czy nie lepiej trzymać listę jako wartość - pojawią się duplikaty, więc przy liczeniu średniej wpłyną one na końcowe położenie przystanku - czy będzie to bliższe rzeczywistości?"
   ]
  },
  {
   "cell_type": "markdown",
   "metadata": {},
   "source": [
    "### Zbiór jako wartość"
   ]
  },
  {
   "cell_type": "code",
   "execution_count": null,
   "metadata": {},
   "outputs": [],
   "source": [
    "stops_map_set: dict[str, set[tuple[float, float]]] = {}\n",
    "for start, start_lat, start_lon, end, end_lat, end_lon in zip(\n",
    "    data.start_stop,\n",
    "    data.start_stop_lat,\n",
    "    data.start_stop_lon,\n",
    "    data.end_stop,\n",
    "    data.end_stop_lat,\n",
    "    data.end_stop_lon,\n",
    "):\n",
    "    stops_map_keys = stops_map_set.keys()\n",
    "    if start in stops_map_keys:\n",
    "        stops_map_set[start].add((start_lat, start_lon))\n",
    "    else:\n",
    "        stops_map_set[start] = {(start_lat, start_lon)}\n",
    "\n",
    "    if end in stops_map_keys:\n",
    "        stops_map_set[end].add((end_lat, end_lon))\n",
    "    else:\n",
    "        stops_map_set[end] = {(end_lat, end_lon)}\n",
    "\n",
    "print(f\"Number of stops: {len(stops_map_set)}\")\n",
    "print(\"Stops and their coordinates:\")\n",
    "stops_map_set\n"
   ]
  },
  {
   "cell_type": "code",
   "execution_count": null,
   "metadata": {},
   "outputs": [],
   "source": [
    "final_stops_coords_set: dict[str, tuple[float, float]] = {}\n",
    "for stop, coordinates in stops_map_set.items():\n",
    "    coordinates_size = len(coordinates)\n",
    "    avg_lat = 0\n",
    "    avg_lon = 0\n",
    "    for lat, lon in coordinates:\n",
    "        avg_lat += lat\n",
    "        avg_lon += lon\n",
    "\n",
    "    avg_lat = avg_lat/coordinates_size\n",
    "    avg_lon = avg_lon/coordinates_size\n",
    "    final_stops_coords_set[stop] = (avg_lat, avg_lon)\n",
    "\n",
    "print(f\"Number of final stops: {len(final_stops_coords_set)}\")\n",
    "print(\"Stops and their final coordinates:\")\n",
    "final_stops_coords_set"
   ]
  },
  {
   "cell_type": "code",
   "execution_count": null,
   "metadata": {},
   "outputs": [],
   "source": [
    "final_stops_coords_set[\"Komuny Paryskiej\"]\n"
   ]
  },
  {
   "cell_type": "markdown",
   "metadata": {},
   "source": [
    "### Lista jako wartość"
   ]
  },
  {
   "cell_type": "code",
   "execution_count": null,
   "metadata": {},
   "outputs": [],
   "source": [
    "stops_map_list: dict[str, list[tuple[float, float]]] = {}\n",
    "for start, start_lat, start_lon, end, end_lat, end_lon in zip(\n",
    "    data.start_stop,\n",
    "    data.start_stop_lat,\n",
    "    data.start_stop_lon,\n",
    "    data.end_stop,\n",
    "    data.end_stop_lat,\n",
    "    data.end_stop_lon,\n",
    "):\n",
    "    stops_map_keys = stops_map_list.keys()\n",
    "    if start in stops_map_keys:\n",
    "        stops_map_list[start].append((start_lat, start_lon))\n",
    "    else:\n",
    "        stops_map_list[start] = [(start_lat, start_lon)]\n",
    "\n",
    "    if end in stops_map_keys:\n",
    "        stops_map_list[end].append((end_lat, end_lon))\n",
    "    else:\n",
    "        stops_map_list[end] = [(end_lat, end_lon)]\n",
    "\n",
    "print(f\"Number of stops: {len(stops_map_set)}\")\n",
    "print(\"Stops and their coordinates:\")\n",
    "stops_map_list"
   ]
  },
  {
   "cell_type": "code",
   "execution_count": null,
   "metadata": {},
   "outputs": [],
   "source": [
    "final_stops_coords_list: dict[str, tuple[float, float]] = {}\n",
    "for stop, coordinates in stops_map_list.items():\n",
    "    coordinates_size = len(coordinates)\n",
    "    avg_lat = 0\n",
    "    avg_lon = 0\n",
    "    for lat, lon in coordinates:\n",
    "        avg_lat += lat\n",
    "        avg_lon += lon\n",
    "\n",
    "    avg_lat = avg_lat/coordinates_size\n",
    "    avg_lon = avg_lon/coordinates_size\n",
    "    final_stops_coords_list[stop] = (avg_lat, avg_lon)\n",
    "\n",
    "print(f\"Number of final stops: {len(final_stops_coords_list)}\")\n",
    "print(\"Stops and their final coordinates:\")\n",
    "final_stops_coords_list"
   ]
  },
  {
   "cell_type": "code",
   "execution_count": null,
   "metadata": {},
   "outputs": [],
   "source": [
    "print(f\"Lokalizacja przystanku wyliczona ze zbioru: {final_stops_coords_set[\"Komuny Paryskiej\"]}\")\n",
    "print(f\"Lokalizacja przystanku wyliczona z listy: {final_stops_coords_list[\"Komuny Paryskiej\"]}\")\n"
   ]
  },
  {
   "cell_type": "markdown",
   "metadata": {},
   "source": [
    "### Wniosek\n",
    "Wyliczanie średniej lokalizacji przystanku na podstawie wartości, które mogą się duplikować wydaje się być lepszym podejściem - ostateczna lokalizacja dokładniej przybliża hipotetyczne położenie przystanku."
   ]
  },
  {
   "cell_type": "markdown",
   "metadata": {},
   "source": [
    "Zapisanie nowych lokalizacji (średnich) do ramki"
   ]
  },
  {
   "cell_type": "code",
   "execution_count": null,
   "metadata": {},
   "outputs": [],
   "source": [
    "updated_data = data.copy()\n",
    "    \n",
    "# Replace start stop coordinates\n",
    "updated_data['start_stop_lat'] = updated_data['start_stop'].map(lambda x: final_stops_coords_list[x][0])\n",
    "updated_data['start_stop_lon'] = updated_data['start_stop'].map(lambda x: final_stops_coords_list[x][1])\n",
    "    \n",
    "# Replace end stop coordinates\n",
    "updated_data['end_stop_lat'] = updated_data['end_stop'].map(lambda x: final_stops_coords_list[x][0])\n",
    "updated_data['end_stop_lon'] = updated_data['end_stop'].map(lambda x: final_stops_coords_list[x][1])\n",
    "\n",
    "updated_data[(updated_data['start_stop'] == 'PL. GRUNWALDZKI') & (updated_data['end_stop'] == 'PL. GRUNWALDZKI')]\n",
    "    "
   ]
  },
  {
   "cell_type": "markdown",
   "metadata": {},
   "source": [
    "Godziny są spoza zakresu 0-24. **Jak to obsłużyć???**"
   ]
  },
  {
   "cell_type": "markdown",
   "metadata": {},
   "source": [
    "Minimalna wartość godziny to **3** <br>\n",
    "Maksymalna wartość godziny to **30**"
   ]
  },
  {
   "cell_type": "code",
   "execution_count": null,
   "metadata": {},
   "outputs": [],
   "source": [
    "import re\n",
    "from datetime import datetime, timedelta\n",
    "\n",
    "regexp = re.compile(r\"(\\d{2}):(\\d{2}):(\\d{2})\")\n",
    "\n",
    "for start_time, end_time in zip(updated_data.departure_time, updated_data.arrival_time):\n",
    "    for t in [start_time,end_time]:\n",
    "        match = re.search(regexp, t)\n",
    "        if match is None:\n",
    "            raise Exception(\"Shouldn't happen\")\n",
    "        h, m, s = map(int, match.groups())\n",
    "        if h >= 24:\n",
    "            #print(t)\n",
    "            h -= 24\n",
    "            dt = datetime.strptime(f\"{h}:{m}:{s}\", \"%H:%M:%S\")\n",
    "            dt += timedelta(1)\n",
    "            #print(dt)\n",
    "        else:\n",
    "            dt = pd.to_datetime(f\"{h}:{m}:{s}\", format=\"%H:%M:%S\")\n",
    "            #print(dt)"
   ]
  },
  {
   "cell_type": "markdown",
   "metadata": {},
   "source": [
    "Zapisanie nowych danych do pliku"
   ]
  },
  {
   "cell_type": "code",
   "execution_count": null,
   "metadata": {},
   "outputs": [],
   "source": [
    "updated_data.to_csv('./data_with_normalized_locations.csv')"
   ]
  }
 ],
 "metadata": {
  "kernelspec": {
   "display_name": "venv",
   "language": "python",
   "name": "python3"
  },
  "language_info": {
   "codemirror_mode": {
    "name": "ipython",
    "version": 3
   },
   "file_extension": ".py",
   "mimetype": "text/x-python",
   "name": "python",
   "nbconvert_exporter": "python",
   "pygments_lexer": "ipython3",
   "version": "3.12.2"
  }
 },
 "nbformat": 4,
 "nbformat_minor": 2
}
