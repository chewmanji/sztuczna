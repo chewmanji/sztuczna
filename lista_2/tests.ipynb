{
 "cells": [
  {
   "cell_type": "code",
   "execution_count": null,
   "id": "a23ebd78",
   "metadata": {},
   "outputs": [],
   "source": [
    "from main import play_agents\n",
    "from heruistics import piece_count, evaluate_connectivity, isolated_pieces_count, possible_moves_count\n",
    "from clobber import Clobber\n",
    "from itertools import product\n",
    "from minimax import minimax\n",
    "from alpha_beta import alpha_beta\n",
    "\n",
    "import pandas as pd"
   ]
  },
  {
   "cell_type": "code",
   "execution_count": null,
   "id": "1ad896ed",
   "metadata": {},
   "outputs": [],
   "source": [
    "game = Clobber(5,6)\n",
    "\n",
    "heuristics = [piece_count, evaluate_connectivity, isolated_pieces_count, possible_moves_count]\n",
    "\n",
    "heuristic_pairs = list(product(heuristics, heuristics))\n",
    "\n",
    "depths = [2,3]\n",
    "\n",
    "results:list[dict[str, str | int | float ]] = []\n"
   ]
  },
  {
   "cell_type": "markdown",
   "id": "182018b2",
   "metadata": {},
   "source": [
    "# Running algorithms"
   ]
  },
  {
   "cell_type": "code",
   "execution_count": null,
   "id": "dd401bb4",
   "metadata": {},
   "outputs": [],
   "source": [
    "for depth in depths:\n",
    "    for (white_heuristic, black_heuristic) in heuristic_pairs:\n",
    "        (\n",
    "            winner,\n",
    "            visited_nodes_by_white,\n",
    "            visited_nodes_by_black,\n",
    "            time_white,\n",
    "            time_black,\n",
    "        ) = play_agents(minimax, depth, white_heuristic, black_heuristic)\n",
    "        entry = {\n",
    "            \"winner\" : winner.name, \n",
    "            \"white_heuristic\":white_heuristic.__name__, \n",
    "            \"black_heuristic\":black_heuristic.__name__,\n",
    "            \"white_nodes\" : visited_nodes_by_white,\n",
    "            \"black_nodes\" : visited_nodes_by_black,\n",
    "            \"white_time\" : time_white,\n",
    "            \"black_time\" : time_black,\n",
    "            \"all_nodes\" : visited_nodes_by_white + visited_nodes_by_black,\n",
    "            \"all_time\" : time_white + time_black,\n",
    "            \"depth\":depth,\n",
    "            \"algorithm\": \"minimax\"\n",
    "            }\n",
    "        results.append(entry)\n",
    "        (\n",
    "            winner,\n",
    "            visited_nodes_by_white,\n",
    "            visited_nodes_by_black,\n",
    "            time_white,\n",
    "            time_black,\n",
    "        ) = play_agents(alpha_beta, depth, white_heuristic, black_heuristic)\n",
    "        entry = {\n",
    "            \"winner\" : winner.name, \n",
    "            \"white_heuristic\":white_heuristic.__name__, \n",
    "            \"black_heuristic\":black_heuristic.__name__,\n",
    "            \"white_nodes\" : visited_nodes_by_white,\n",
    "            \"black_nodes\" : visited_nodes_by_black,\n",
    "            \"white_time\" : time_white,\n",
    "            \"black_time\" : time_black,\n",
    "            \"all_nodes\" : visited_nodes_by_white + visited_nodes_by_black,\n",
    "            \"all_time\" : time_white + time_black,\n",
    "            \"depth\":depth,\n",
    "            \"algorithm\": \"alpha-beta\"\n",
    "            }\n",
    "        results.append(entry)\n"
   ]
  },
  {
   "cell_type": "code",
   "execution_count": null,
   "id": "10c271ad",
   "metadata": {},
   "outputs": [],
   "source": [
    "df = pd.DataFrame(results)\n",
    "\n",
    "df"
   ]
  },
  {
   "cell_type": "code",
   "execution_count": null,
   "id": "271f95df",
   "metadata": {},
   "outputs": [],
   "source": [
    "df.to_csv(\"./tests.csv\")"
   ]
  }
 ],
 "metadata": {
  "kernelspec": {
   "display_name": "venv",
   "language": "python",
   "name": "python3"
  },
  "language_info": {
   "codemirror_mode": {
    "name": "ipython",
    "version": 3
   },
   "file_extension": ".py",
   "mimetype": "text/x-python",
   "name": "python",
   "nbconvert_exporter": "python",
   "pygments_lexer": "ipython3",
   "version": "3.12.2"
  }
 },
 "nbformat": 4,
 "nbformat_minor": 5
}
